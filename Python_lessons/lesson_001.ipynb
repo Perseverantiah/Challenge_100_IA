{
 "cells": [
  {
   "cell_type": "markdown",
   "id": "15922f85-985c-4aff-bad2-a1ab44575b61",
   "metadata": {},
   "source": [
    "# Lesson_001"
   ]
  },
  {
   "cell_type": "markdown",
   "id": "b9d9f7dd-c815-4d55-ad86-d7ebe890abbf",
   "metadata": {},
   "source": [
    "**Nous allons dans cette première leçon définir tous les types de variables et faire des opérations avec ces variables.**"
   ]
  },
  {
   "cell_type": "markdown",
   "id": "4b2ac283-5d50-40c8-b758-96ddd6bb1bf5",
   "metadata": {},
   "source": [
    "\n",
    "Exercice\n",
    "Un magasin vend trois types de produits : des stylos, des cahiers et des calculatrices. Voici les informations concernant ces produits :\n",
    "\n",
    "**Stylos** :\n",
    "\n",
    "Prix d'achat : 1,20 €\n",
    "Prix de vente : 2,00 €\n",
    "Quantité achetée : 150\n",
    "\n",
    "**Cahiers** :\n",
    "\n",
    "Prix d'achat : 2,50 €\n",
    "Prix de vente : 4,00 €\n",
    "Quantité achetée : 100\n",
    "\n",
    "**Calculatrices** :\n",
    "\n",
    "Prix d'achat : 15,00 €\n",
    "Prix de vente : 25,00 €\n",
    "Quantité achetée : 30\n",
    "\n",
    "\n",
    "**Questions**\n",
    "\n",
    "1. Calcule le coût total d'achat pour chaque type de produit.\n",
    "2. Calcule le revenu total de la vente pour chaque type de produit.\n",
    "3. Calcule le bénéfice pour chaque type de produit.\n",
    "4. Calcule le bénéfice total pour tous les produits.\n",
    "5. Si le bénéfice total est partagé également entre 5 employés, combien chaque employé recevra-t-il ?\n",
    "6. Quelle est la différence (modulo) entre le nombre total de stylos et le nombre total de cahiers ?\n",
    "7. Si le prix d'achat des stylos augmente de 20%, quel sera le nouveau prix d'achat ?\n",
    "8. Si le prix de vente des calculatrices double, quel sera le nouveau prix de vente ?"
   ]
  },
  {
   "cell_type": "markdown",
   "id": "aca09e3a-eefd-4aec-a1e8-b909658a97fd",
   "metadata": {},
   "source": [
    "### Calcul du cout total pour les stylos"
   ]
  },
  {
   "cell_type": "code",
   "execution_count": 20,
   "id": "6fd9fb36-05e3-44da-b93a-ff918125b502",
   "metadata": {},
   "outputs": [],
   "source": [
    "# Declaration des variables\n",
    "produit_1=\"stylo\"\n",
    "prix_dachat_stylo=1.2\n",
    "prix_de_vente_stylo=2\n",
    "quantite_stylo=150"
   ]
  },
  {
   "cell_type": "code",
   "execution_count": 5,
   "id": "3d5f0c66-1947-4699-b057-3770d9bb990c",
   "metadata": {},
   "outputs": [
    {
     "data": {
      "text/plain": [
       "float"
      ]
     },
     "execution_count": 5,
     "metadata": {},
     "output_type": "execute_result"
    }
   ],
   "source": [
    "type(prix_dachat_stylo)"
   ]
  },
  {
   "cell_type": "code",
   "execution_count": 6,
   "id": "872c05d7-04e2-4380-befc-66ce1f2a9c51",
   "metadata": {},
   "outputs": [
    {
     "data": {
      "text/plain": [
       "int"
      ]
     },
     "execution_count": 6,
     "metadata": {},
     "output_type": "execute_result"
    }
   ],
   "source": [
    "type(quantite_stylo)"
   ]
  },
  {
   "cell_type": "code",
   "execution_count": 8,
   "id": "3d43fbb2-d6f8-4f88-9b92-89078f1f54c1",
   "metadata": {},
   "outputs": [
    {
     "data": {
      "text/plain": [
       "str"
      ]
     },
     "execution_count": 8,
     "metadata": {},
     "output_type": "execute_result"
    }
   ],
   "source": [
    "type(produit_1)"
   ]
  },
  {
   "cell_type": "code",
   "execution_count": 9,
   "id": "75f37fd3-a3b0-480b-8c9d-ca9006e50e48",
   "metadata": {},
   "outputs": [
    {
     "ename": "SyntaxError",
     "evalue": "invalid decimal literal (4104171570.py, line 1)",
     "output_type": "error",
     "traceback": [
      "\u001b[1;36m  Cell \u001b[1;32mIn[9], line 1\u001b[1;36m\u001b[0m\n\u001b[1;33m    123_prixdachat=1.2\u001b[0m\n\u001b[1;37m       ^\u001b[0m\n\u001b[1;31mSyntaxError\u001b[0m\u001b[1;31m:\u001b[0m invalid decimal literal\n"
     ]
    }
   ],
   "source": [
    "123_prixdachat=1.2"
   ]
  },
  {
   "cell_type": "code",
   "execution_count": 10,
   "id": "c8718a68-c6d1-4705-92de-cd5c298db57c",
   "metadata": {},
   "outputs": [
    {
     "ename": "SyntaxError",
     "evalue": "invalid decimal literal (3116558440.py, line 1)",
     "output_type": "error",
     "traceback": [
      "\u001b[1;36m  Cell \u001b[1;32mIn[10], line 1\u001b[1;36m\u001b[0m\n\u001b[1;33m    123prixdachat=1.2\u001b[0m\n\u001b[1;37m      ^\u001b[0m\n\u001b[1;31mSyntaxError\u001b[0m\u001b[1;31m:\u001b[0m invalid decimal literal\n"
     ]
    }
   ],
   "source": [
    "123prixdachat=1.2"
   ]
  },
  {
   "cell_type": "code",
   "execution_count": 11,
   "id": "fe6c64dd-2c3f-4e62-a227-7b9b0c5d72e8",
   "metadata": {},
   "outputs": [
    {
     "ename": "SyntaxError",
     "evalue": "invalid syntax (1660719696.py, line 1)",
     "output_type": "error",
     "traceback": [
      "\u001b[1;36m  Cell \u001b[1;32mIn[11], line 1\u001b[1;36m\u001b[0m\n\u001b[1;33m    prix dachat=1.2\u001b[0m\n\u001b[1;37m         ^\u001b[0m\n\u001b[1;31mSyntaxError\u001b[0m\u001b[1;31m:\u001b[0m invalid syntax\n"
     ]
    }
   ],
   "source": [
    "prix dachat=1.2"
   ]
  },
  {
   "cell_type": "code",
   "execution_count": 12,
   "id": "18115bfe-9527-4ae2-9adf-aa36ffd80aa7",
   "metadata": {},
   "outputs": [],
   "source": [
    "# Le prix total d'un produit revient a la quantite du produit fois le prix d'achat de ce produit\n",
    "cout_total_stylo=prix_dachat_stylo*quantite_stylo"
   ]
  },
  {
   "cell_type": "code",
   "execution_count": 13,
   "id": "24acb7f9-120d-4dc0-8c3e-dea896ed5ce8",
   "metadata": {},
   "outputs": [
    {
     "name": "stdout",
     "output_type": "stream",
     "text": [
      "180.0\n"
     ]
    }
   ],
   "source": [
    "print(cout_total_stylo)"
   ]
  },
  {
   "cell_type": "code",
   "execution_count": 15,
   "id": "4415d373-9634-4d0f-9314-21ee8064c764",
   "metadata": {},
   "outputs": [
    {
     "name": "stdout",
     "output_type": "stream",
     "text": [
      "Le cout total des stylos est : 180.0\n"
     ]
    }
   ],
   "source": [
    "print(\"Le cout total des stylos est :\", cout_total_stylo)"
   ]
  },
  {
   "cell_type": "code",
   "execution_count": 16,
   "id": "e15ce825-9063-4925-9681-2bfd5a9db76b",
   "metadata": {},
   "outputs": [
    {
     "name": "stdout",
     "output_type": "stream",
     "text": [
      "Le cout total des stylos est : 180.0\n"
     ]
    }
   ],
   "source": [
    "print(f\"Le cout total des stylos est : {cout_total_stylo}\")"
   ]
  },
  {
   "cell_type": "markdown",
   "id": "453fa41a-305c-446f-a34e-8605b2f00171",
   "metadata": {},
   "source": [
    "### Calcul du revenu total pour les stylos"
   ]
  },
  {
   "cell_type": "code",
   "execution_count": 23,
   "id": "65b12acd-7093-429e-b0ba-eba2073de405",
   "metadata": {},
   "outputs": [],
   "source": [
    "# Le revenu est egal au prix de vente fois la quantite de stylo\n",
    "revenu_total_stylo=prix_de_vente_stylo*quantite_stylo"
   ]
  },
  {
   "cell_type": "code",
   "execution_count": 24,
   "id": "9bb0cf7e-93c7-4bd0-9927-22217c449ad0",
   "metadata": {},
   "outputs": [
    {
     "name": "stdout",
     "output_type": "stream",
     "text": [
      "Le revenu total des stylos est : 300\n"
     ]
    }
   ],
   "source": [
    "print(f\"Le revenu total des stylos est : {revenu_total_stylo}\")"
   ]
  },
  {
   "cell_type": "markdown",
   "id": "669e07e3-5c3b-4b3a-b894-3d5571187e0f",
   "metadata": {},
   "source": [
    "## Les autres operations "
   ]
  },
  {
   "cell_type": "code",
   "execution_count": 25,
   "id": "8a7ae611-7620-41b2-a835-df12d7073bc1",
   "metadata": {},
   "outputs": [
    {
     "data": {
      "text/plain": [
       "20"
      ]
     },
     "execution_count": 25,
     "metadata": {},
     "output_type": "execute_result"
    }
   ],
   "source": [
    "50-30 #soustraction"
   ]
  },
  {
   "cell_type": "code",
   "execution_count": 26,
   "id": "9983aaea-2582-4547-8976-a24be8e32e94",
   "metadata": {},
   "outputs": [
    {
     "data": {
      "text/plain": [
       "10.0"
      ]
     },
     "execution_count": 26,
     "metadata": {},
     "output_type": "execute_result"
    }
   ],
   "source": [
    "20/2 #division"
   ]
  },
  {
   "cell_type": "code",
   "execution_count": 27,
   "id": "35ac12ec-6e45-4942-9c86-f4f59c5c6625",
   "metadata": {},
   "outputs": [
    {
     "data": {
      "text/plain": [
       "1"
      ]
     },
     "execution_count": 27,
     "metadata": {},
     "output_type": "execute_result"
    }
   ],
   "source": [
    "# Le modul renvoie le reste de la division de 3 par 2\n",
    "\n",
    "3%2 #modulo"
   ]
  },
  {
   "cell_type": "code",
   "execution_count": 28,
   "id": "1a1dec21-fdef-426d-a2c0-7cbde40af8f8",
   "metadata": {},
   "outputs": [
    {
     "data": {
      "text/plain": [
       "9"
      ]
     },
     "execution_count": 28,
     "metadata": {},
     "output_type": "execute_result"
    }
   ],
   "source": [
    "3**2 #root square"
   ]
  },
  {
   "cell_type": "code",
   "execution_count": null,
   "id": "ccf8a7fd-3391-475f-847c-33eafa9d7b16",
   "metadata": {},
   "outputs": [],
   "source": []
  },
  {
   "cell_type": "code",
   "execution_count": null,
   "id": "ebac4f67-8033-4bb7-9ca7-81106a8eb766",
   "metadata": {},
   "outputs": [],
   "source": []
  }
 ],
 "metadata": {
  "kernelspec": {
   "display_name": "Python 3 (ipykernel)",
   "language": "python",
   "name": "python3"
  },
  "language_info": {
   "codemirror_mode": {
    "name": "ipython",
    "version": 3
   },
   "file_extension": ".py",
   "mimetype": "text/x-python",
   "name": "python",
   "nbconvert_exporter": "python",
   "pygments_lexer": "ipython3",
   "version": "3.11.7"
  }
 },
 "nbformat": 4,
 "nbformat_minor": 5
}
